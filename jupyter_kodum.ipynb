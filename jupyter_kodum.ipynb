{
 "cells": [
  {
   "cell_type": "code",
   "execution_count": 282,
   "metadata": {},
   "outputs": [],
   "source": [
    "import pandas as pd\n",
    "import csv\n"
   ]
  },
  {
   "cell_type": "code",
   "execution_count": 283,
   "metadata": {},
   "outputs": [],
   "source": [
    "df1 = pd.read_csv(r'product.csv')\n",
    "df2 = pd.read_csv(r'store.csv')\n",
    "df3 = pd.read_csv(r'sales.csv') "
   ]
  },
  {
   "cell_type": "code",
   "execution_count": 284,
   "metadata": {},
   "outputs": [
    {
     "name": "stdout",
     "output_type": "stream",
     "text": [
      "          date  quantity  id_x product_name     brand  id_y store_name  \\\n",
      "0   2020-06-07         2   114        p-114      duff     5        s-5   \n",
      "1   2020-05-22         9   114        p-114      duff     5        s-5   \n",
      "2   2020-04-01         8   103        p-103  yoyodyne     5        s-5   \n",
      "3   2020-06-17         8   102        p-102      duff     5        s-5   \n",
      "4   2020-01-03         2   113        p-113  yoyodyne     5        s-5   \n",
      "5   2020-01-18         6   101        p-101  yoyodyne     5        s-5   \n",
      "6   2020-01-18         2   107        p-107      acme     5        s-5   \n",
      "7   2020-01-20         9   114        p-114      duff     2        s-2   \n",
      "8   2020-03-20         2   106        p-106      duff     2        s-2   \n",
      "9   2020-04-18         2   108        p-108      acme     2        s-2   \n",
      "10  2020-03-10         9   111        p-111      acme     2        s-2   \n",
      "11  2020-02-05         8   103        p-103  yoyodyne     2        s-2   \n",
      "12  2020-01-04         8   104        p-104      acme     2        s-2   \n",
      "13  2020-03-04         1   113        p-113  yoyodyne     2        s-2   \n",
      "14  2020-02-24         6   105        p-105  yoyodyne     2        s-2   \n",
      "15  2020-05-07         8   107        p-107      acme     2        s-2   \n",
      "16  2020-05-25         8   106        p-106      duff     7        s-7   \n",
      "17  2020-03-17         5   103        p-103  yoyodyne     7        s-7   \n",
      "18  2020-05-30         7   102        p-102      duff     7        s-7   \n",
      "19  2020-04-23         1   104        p-104      acme     7        s-7   \n",
      "20  2020-05-22         3   101        p-101  yoyodyne     7        s-7   \n",
      "21  2020-03-09         9   105        p-105  yoyodyne     7        s-7   \n",
      "22  2020-01-18         5   107        p-107      acme     7        s-7   \n",
      "23  2020-02-18         3   115        p-115  yoyodyne     7        s-7   \n",
      "24  2020-01-23         6   106        p-106      duff     3        s-3   \n",
      "25  2020-02-05         7   108        p-108      acme     3        s-3   \n",
      "26  2020-03-06         2   109        p-109  yoyodyne     3        s-3   \n",
      "27  2020-03-25         9   109        p-109  yoyodyne     3        s-3   \n",
      "28  2020-03-29         8   110        p-110      acme     3        s-3   \n",
      "29  2020-04-08         7   103        p-103  yoyodyne     3        s-3   \n",
      "30  2020-01-21         9   103        p-103  yoyodyne     3        s-3   \n",
      "31  2020-05-26         7   102        p-102      duff     3        s-3   \n",
      "32  2020-04-05         2   101        p-101  yoyodyne     3        s-3   \n",
      "33  2020-01-30         1   108        p-108      acme     6        s-6   \n",
      "34  2020-04-13         6   110        p-110      acme     6        s-6   \n",
      "35  2020-05-06         8   110        p-110      acme     6        s-6   \n",
      "36  2020-04-04         2   102        p-102      duff     6        s-6   \n",
      "37  2020-03-28         2   104        p-104      acme     6        s-6   \n",
      "38  2020-02-15         6   101        p-101  yoyodyne     6        s-6   \n",
      "39  2020-01-27         1   115        p-115  yoyodyne     6        s-6   \n",
      "40  2020-04-13         5   111        p-111      acme     4        s-4   \n",
      "41  2020-06-26         4   109        p-109  yoyodyne     4        s-4   \n",
      "42  2020-02-01         8   109        p-109  yoyodyne     4        s-4   \n",
      "43  2020-05-15         5   103        p-103  yoyodyne     4        s-4   \n",
      "44  2020-05-12         1   112        p-112  yoyodyne     4        s-4   \n",
      "45  2020-03-30         7   104        p-104      acme     4        s-4   \n",
      "46  2020-06-18         2   110        p-110      acme     1        s-1   \n",
      "47  2020-05-15         6   112        p-112  yoyodyne     1        s-1   \n",
      "48  2020-06-06         3   112        p-112  yoyodyne     1        s-1   \n",
      "49  2020-05-31         4   113        p-113  yoyodyne     1        s-1   \n",
      "\n",
      "         city  \n",
      "0      gotham  \n",
      "1      gotham  \n",
      "2      gotham  \n",
      "3      gotham  \n",
      "4      gotham  \n",
      "5      gotham  \n",
      "6      gotham  \n",
      "7   coruscant  \n",
      "8   coruscant  \n",
      "9   coruscant  \n",
      "10  coruscant  \n",
      "11  coruscant  \n",
      "12  coruscant  \n",
      "13  coruscant  \n",
      "14  coruscant  \n",
      "15  coruscant  \n",
      "16     gotham  \n",
      "17     gotham  \n",
      "18     gotham  \n",
      "19     gotham  \n",
      "20     gotham  \n",
      "21     gotham  \n",
      "22     gotham  \n",
      "23     gotham  \n",
      "24  coruscant  \n",
      "25  coruscant  \n",
      "26  coruscant  \n",
      "27  coruscant  \n",
      "28  coruscant  \n",
      "29  coruscant  \n",
      "30  coruscant  \n",
      "31  coruscant  \n",
      "32  coruscant  \n",
      "33       zion  \n",
      "34       zion  \n",
      "35       zion  \n",
      "36       zion  \n",
      "37       zion  \n",
      "38       zion  \n",
      "39       zion  \n",
      "40     gotham  \n",
      "41     gotham  \n",
      "42     gotham  \n",
      "43     gotham  \n",
      "44     gotham  \n",
      "45     gotham  \n",
      "46     gotham  \n",
      "47     gotham  \n",
      "48     gotham  \n",
      "49     gotham  \n"
     ]
    }
   ],
   "source": [
    "#id_x = product_id and id_y=store_id \n",
    "\n",
    "df4=pd.merge(df3, df1, left_on = 'product', right_on = 'id', how = 'inner').drop('product', axis = 1) \n",
    "#print(df4)\n",
    "\n",
    "df5=pd.merge(df4, df2, left_on = 'store', right_on = 'id', how = 'inner').drop('store', axis = 1)  \n",
    "df5.rename(columns={ 'name_x': 'product_name' ,'name_y' : 'store_name','id_x ': 'product_id'},inplace=True)\n",
    "print(df5) "
   ]
  },
  {
   "cell_type": "code",
   "execution_count": 286,
   "metadata": {},
   "outputs": [],
   "source": [
    "#datas between two dates pandas  \n",
    "df5['date'] = pd.to_datetime(df5['date']) \n",
    "start_date = '2020-05-22' #kullanıcıdan alacam \n",
    "end_date = '2020-06-08' # kullanıcıdan alacam \n",
    "\n"
   ]
  },
  {
   "cell_type": "code",
   "execution_count": 287,
   "metadata": {},
   "outputs": [
    {
     "name": "stdout",
     "output_type": "stream",
     "text": [
      "         date  quantity  id_x product_name     brand  id_y store_name  \\\n",
      "0  2020-06-07         2   114        p-114      duff     5        s-5   \n",
      "16 2020-05-25         8   106        p-106      duff     7        s-7   \n",
      "18 2020-05-30         7   102        p-102      duff     7        s-7   \n",
      "31 2020-05-26         7   102        p-102      duff     3        s-3   \n",
      "48 2020-06-06         3   112        p-112  yoyodyne     1        s-1   \n",
      "49 2020-05-31         4   113        p-113  yoyodyne     1        s-1   \n",
      "\n",
      "         city  \n",
      "0      gotham  \n",
      "16     gotham  \n",
      "18     gotham  \n",
      "31  coruscant  \n",
      "48     gotham  \n",
      "49     gotham  \n"
     ]
    }
   ],
   "source": [
    "mask = (df5['date'] > start_date) & (df5['date'] <= end_date) #mask operation ile aralığıma erişitim \n",
    "df_main = df5.loc[mask]\n",
    "print(df_main)"
   ]
  },
  {
   "cell_type": "code",
   "execution_count": 292,
   "metadata": {},
   "outputs": [
    {
     "name": "stdout",
     "output_type": "stream",
     "text": [
      "   product_name  quantity\n",
      "0         p-114         2\n",
      "16        p-106         8\n",
      "18        p-102         7\n",
      "31        p-102         7\n",
      "48        p-112         3\n",
      "49        p-113         4\n",
      "\n",
      "              quantity\n",
      "product_name          \n",
      "p-102               14\n",
      "p-106                8\n",
      "p-113                4\n",
      "p-112                3\n",
      "p-114                2\n"
     ]
    }
   ],
   "source": [
    "#1)get product_name & quantitity in target range   \n",
    "df_product=df_main[[\"product_name\", \"quantity\"]]\n",
    "print(df_product) \n",
    "print()\n",
    "df_product=df_product.groupby(['product_name']).sum() \n",
    "df_product=df_product.sort_values(by='quantity', ascending=False)\n",
    "print(df_product)"
   ]
  },
  {
   "cell_type": "code",
   "execution_count": 293,
   "metadata": {},
   "outputs": [
    {
     "name": "stdout",
     "output_type": "stream",
     "text": [
      "   store_name  quantity\n",
      "0         s-5         2\n",
      "16        s-7         8\n",
      "18        s-7         7\n",
      "31        s-3         7\n",
      "48        s-1         3\n",
      "49        s-1         4\n",
      "\n",
      "            quantity\n",
      "store_name          \n",
      "s-7               15\n",
      "s-1                7\n",
      "s-3                7\n",
      "s-5                2\n"
     ]
    }
   ],
   "source": [
    "#2)store name & quantity in target range \n",
    "df_store=df_main[[\"store_name\", \"quantity\"]]\n",
    "print(df_store) \n",
    "print()\n",
    "df_store=df_store.groupby(['store_name']).sum()  \n",
    "df_store=df_store.sort_values(by='quantity', ascending=False)\n",
    "print(df_store)"
   ]
  },
  {
   "cell_type": "code",
   "execution_count": 294,
   "metadata": {},
   "outputs": [
    {
     "name": "stdout",
     "output_type": "stream",
     "text": [
      "       brand  quantity\n",
      "0       duff         2\n",
      "16      duff         8\n",
      "18      duff         7\n",
      "31      duff         7\n",
      "48  yoyodyne         3\n",
      "49  yoyodyne         4\n",
      "\n",
      "          quantity\n",
      "brand             \n",
      "duff            24\n",
      "yoyodyne         7\n"
     ]
    }
   ],
   "source": [
    "#3)brand & quantity in target range \n",
    "df_brand=df_main[[\"brand\", \"quantity\"]]\n",
    "print(df_brand) \n",
    "print()\n",
    "df_brand=df_brand.groupby(['brand']).sum()  \n",
    "df_brand=df_brand.sort_values(by='quantity', ascending=False)\n",
    "print(df_brand)"
   ]
  },
  {
   "cell_type": "code",
   "execution_count": 295,
   "metadata": {},
   "outputs": [
    {
     "name": "stdout",
     "output_type": "stream",
     "text": [
      "         city  quantity\n",
      "0      gotham         2\n",
      "16     gotham         8\n",
      "18     gotham         7\n",
      "31  coruscant         7\n",
      "48     gotham         3\n",
      "49     gotham         4\n",
      "\n",
      "           quantity\n",
      "city               \n",
      "gotham           24\n",
      "coruscant         7\n"
     ]
    }
   ],
   "source": [
    "#4)city & quantity in target range  \n",
    "df_city=df_main[[\"city\", \"quantity\"]]\n",
    "print(df_city) \n",
    "print()\n",
    "df_city=df_city.groupby(['city']).sum()  \n",
    "df_city=df_city.sort_values(by='quantity', ascending=False)\n",
    "print(df_city)"
   ]
  },
  {
   "cell_type": "code",
   "execution_count": null,
   "metadata": {},
   "outputs": [],
   "source": []
  }
 ],
 "metadata": {
  "kernelspec": {
   "display_name": "Python 3",
   "language": "python",
   "name": "python3"
  },
  "language_info": {
   "codemirror_mode": {
    "name": "ipython",
    "version": 3
   },
   "file_extension": ".py",
   "mimetype": "text/x-python",
   "name": "python",
   "nbconvert_exporter": "python",
   "pygments_lexer": "ipython3",
   "version": "3.7.6"
  }
 },
 "nbformat": 4,
 "nbformat_minor": 4
}
